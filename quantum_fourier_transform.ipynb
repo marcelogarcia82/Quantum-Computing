{
 "cells": [
  {
   "cell_type": "code",
   "execution_count": null,
   "metadata": {},
   "outputs": [],
   "source": [
    "#!pip install qiskit\n",
    "\n",
    "from qiskit import QuantumRegister, ClassicalRegister, QuantumCircuit, execute, Aer, BasicAer, IBMQ, transpile, assemble\n",
    "from qiskit.visualization import array_to_latex, plot_histogram\n",
    "from qiskit.circuit.random import random_circuit\n",
    "from qiskit.quantum_info import Statevector, partial_trace, state_fidelity\n",
    "from qiskit.tools.visualization import circuit_drawer\n",
    "#from qiskit.quantum_info import state_fidelity\n",
    "import numpy as np\n",
    "from random import random\n",
    "import matplotlib.pyplot as plt\n",
    "import warnings\n",
    "warnings.filterwarnings('ignore')\n",
    "#provider = IBMQ.load_account()\n",
    "print(\"Libraries Imported Successfully!\")"
   ]
  },
  {
   "attachments": {},
   "cell_type": "markdown",
   "metadata": {},
   "source": [
    "# Quantum Fourier Transform"
   ]
  },
  {
   "cell_type": "code",
   "execution_count": null,
   "metadata": {},
   "outputs": [],
   "source": [
    "# 2 Qubit QFT\n",
    "import math\n",
    "pi = math.pi\n",
    "qc = QuantumCircuit(2,2)\n",
    "qc.i(0)\n",
    "qc.h(1)\n",
    "qc.cp(theta = -2*pi/2**2,control_qubit=0, target_qubit=1)\n",
    "qc.h(0)\n",
    "qc.i(1)\n",
    "qc.swap(0,1)\n",
    "qc.measure([0,1],[0,1])\n",
    "qc.draw('mpl')"
   ]
  },
  {
   "cell_type": "code",
   "execution_count": null,
   "metadata": {},
   "outputs": [],
   "source": [
    "backend = Aer.get_backend('qasm_simulator')\n",
    "job = execute(qc, backend = backend, shots = 1024)\n",
    "result = job.result()\n",
    "counts = result.get_counts()\n",
    "plot_histogram(counts)"
   ]
  }
 ],
 "metadata": {
  "kernelspec": {
   "display_name": "base",
   "language": "python",
   "name": "python3"
  },
  "language_info": {
   "name": "python",
   "version": "3.9.13"
  },
  "orig_nbformat": 4
 },
 "nbformat": 4,
 "nbformat_minor": 2
}

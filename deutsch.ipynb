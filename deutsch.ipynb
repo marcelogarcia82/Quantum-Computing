{
 "cells": [
  {
   "cell_type": "code",
   "execution_count": null,
   "metadata": {},
   "outputs": [],
   "source": [
    "#!pip install qiskit\n",
    "\n",
    "from qiskit import QuantumRegister, ClassicalRegister, QuantumCircuit, execute, Aer, BasicAer, IBMQ, transpile, assemble\n",
    "from qiskit.visualization import array_to_latex, plot_histogram\n",
    "from qiskit.circuit.random import random_circuit\n",
    "from qiskit.quantum_info import Statevector, partial_trace, state_fidelity\n",
    "from qiskit.tools.visualization import circuit_drawer\n",
    "#from qiskit.quantum_info import state_fidelity\n",
    "import numpy as np\n",
    "from random import random\n",
    "import matplotlib.pyplot as plt\n",
    "import warnings\n",
    "warnings.filterwarnings('ignore')\n",
    "#provider = IBMQ.load_account()\n",
    "print(\"Libraries Imported Successfully!\")"
   ]
  },
  {
   "attachments": {},
   "cell_type": "markdown",
   "metadata": {},
   "source": [
    "# Deutsch Algorithm"
   ]
  },
  {
   "cell_type": "code",
   "execution_count": null,
   "metadata": {},
   "outputs": [],
   "source": [
    "# ENCODING\n",
    "import numpy as np\n",
    "oracle = ['constant', 'balanced']\n",
    "index = np.random.randint(0,2)\n",
    "print(index)\n",
    "q = QuantumRegister(2,'q')\n",
    "c = ClassicalRegister(1,'c')\n",
    "qc = QuantumCircuit(q,c)\n",
    "#qc = QuantumCircuit(2,1)\n",
    "qc.i(1)\n",
    "qc.x(0)\n",
    "qc.h(0)\n",
    "qc.h(1)\n",
    "qc.barrier()\n",
    "#Oracle\n",
    "if oracle[index] == 'constant':\n",
    "    qc.i(0)\n",
    "    qc.i(1)\n",
    "elif oracle[index] == 'balanced':\n",
    "    qc.cx(1,0)\n",
    "qc.barrier()\n",
    "qc.h(1)\n",
    "qc.measure(1,0)\n",
    "backend = Aer.get_backend('qasm_simulator')\n",
    "job = execute(qc, backend = backend, shots = 1024)\n",
    "result = job.result()\n",
    "counts = result.get_counts()\n",
    "plot_histogram(counts)\n",
    "print(counts)\n",
    "qc.draw('mpl')"
   ]
  },
  {
   "cell_type": "code",
   "execution_count": null,
   "metadata": {},
   "outputs": [],
   "source": [
    "job = execute(qc, backend = Aer.get_backend('qasm_simulator'), shots = 1024)\n",
    "result = job.result()\n",
    "counts = result.get_counts()\n",
    "plot_histogram(counts)"
   ]
  }
 ],
 "metadata": {
  "kernelspec": {
   "display_name": "base",
   "language": "python",
   "name": "python3"
  },
  "language_info": {
   "name": "python",
   "version": "3.9.13"
  },
  "orig_nbformat": 4
 },
 "nbformat": 4,
 "nbformat_minor": 2
}
